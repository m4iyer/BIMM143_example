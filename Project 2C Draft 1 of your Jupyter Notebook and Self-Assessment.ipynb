{
 "cells": [
  {
   "cell_type": "markdown",
   "id": "24fe73d6",
   "metadata": {},
   "source": [
    "# Project 2C Draft 1 of your Jupyter Notebook and Self-Assessment"
   ]
  },
  {
   "cell_type": "markdown",
   "id": "f5872534",
   "metadata": {},
   "source": [
    "Scientific Question: Are mice such good animal models for diabetes because the insulin receptor substrate-1 gene (IRS1) is similar between mice and humans?\n",
    "\n",
    "Scientific Hypothesis: If IRS1 is a probable gene for causing type 2 diabetes and mice and humans have similar endocrine systems, then the IRS1 gene sequence and structure between the two animals will be very similar. "
   ]
  },
  {
   "cell_type": "markdown",
   "id": "aa54c177",
   "metadata": {},
   "source": [
    "## Pairwise sequence alignment (PSA)"
   ]
  },
  {
   "cell_type": "code",
   "execution_count": 1,
   "id": "380cb58b",
   "metadata": {},
   "outputs": [
    {
     "name": "stdout",
     "output_type": "stream",
     "text": [
      "Alignment(seqA='MRRWFHPNITGVE-A--ENLL-----LTR---GVD-GSF----LA----RP----SK--SNPGDFT--L-S----V-------RR-----N------G--AVTHIKIQNTGDYYDLYG-GEKFATLAEL---V------QYY-MEHHGQ---LKEKNG------DVIELKY--PLN-', seqB='M---------G--PAFKE---VWQVIL--KPKG--LG--QTKNL-IGIYR-LCLTSKTIS----F-VKLNSEAAAVVLQLMNIRRCGHSENFFFIEVGRSAV-------T-------GPGE-F------WMQVDDSVVAQ--NM--H--ETIL-E---AMRAMSD--E---FRP--R', score=36.0, start=0, end=177)\n",
      "Alignment(seqA='MRRWFHPNITGVEA--ENLL-----LTR---GVD-GSF----LA----RP----SK--SNPGDFT--L-S----V-------RR-----N------G--AVTHIKIQNTGDYYDLYG-GEKFATLAEL---V------QYY-MEHHGQ---LKEKNG------DVIELKY--PLN-', seqB='M---------G-PAFKE---VWQVIL--KPKG--LG--QTKNL-IGIYR-LCLTSKTIS----F-VKLNSEAAAVVLQLMNIRRCGHSENFFFIEVGRSAV-------T-------GPGE-F------WMQVDDSVVAQ--NM--H--ETIL-E---AMRAMSD--E---FRP--R', score=36.0, start=0, end=176)\n",
      "Alignment(seqA='MRRWFHPNITGVEA--ENLL-----LTR---GVD-GSF----LA----RP----SK--SNPGDFT--L-S----V-------RR-----N------G--AVTHIKIQNTGDYYDLYG-GEKFATLAEL---V------QYY-MEHHGQ---LKEKNG------DVIELKY--PLN-', seqB='M---------GP-AFKE---VWQVIL--KPKG--LG--QTKNL-IGIYR-LCLTSKTIS----F-VKLNSEAAAVVLQLMNIRRCGHSENFFFIEVGRSAV-------T-------GPGE-F------WMQVDDSVVAQ--NM--H--ETIL-E---AMRAMSD--E---FRP--R', score=36.0, start=0, end=176)\n",
      "Alignment(seqA='SPGEY-VNIEF-G-----S', seqB='-----LV-I--AGNPAYRS', score=4.0, start=0, end=19)\n",
      "Alignment(seqA='SPGEYVNIEF-G-----S', seqB='----LV-I--AGNPAYRS', score=4.0, start=0, end=18)\n",
      "Alignment(seqA='SPGEYVNIEF-G-----S', seqB='---L-V-I--AGNPAYRS', score=4.0, start=0, end=18)\n",
      "Alignment(seqA='SPGEYVNIEF-G-----S', seqB='--L--V-I--AGNPAYRS', score=4.0, start=0, end=18)\n",
      "Alignment(seqA='SPGEYVNIEF-G-----S', seqB='-L---V-I--AGNPAYRS', score=4.0, start=0, end=18)\n",
      "Alignment(seqA='SPGEYVNIEF-G-----S', seqB='L----V-I--AGNPAYRS', score=4.0, start=0, end=18)\n",
      "Alignment(seqA='SPGEY-VNIEFG-----S', seqB='-----LV-I-AGNPAYRS', score=4.0, start=0, end=18)\n",
      "Alignment(seqA='SPGEYVNIEFG-----S', seqB='----LV-I-AGNPAYRS', score=4.0, start=0, end=17)\n",
      "Alignment(seqA='SPGEYVNIEFG-----S', seqB='---L-V-I-AGNPAYRS', score=4.0, start=0, end=17)\n",
      "Alignment(seqA='SPGEYVNIEFG-----S', seqB='--L--V-I-AGNPAYRS', score=4.0, start=0, end=17)\n",
      "Alignment(seqA='SPGEYVNIEFG-----S', seqB='-L---V-I-AGNPAYRS', score=4.0, start=0, end=17)\n",
      "Alignment(seqA='SPGEYVNIEFG-----S', seqB='L----V-I-AGNPAYRS', score=4.0, start=0, end=17)\n",
      "Alignment(seqA='SPGEY-VNIEFG-----S', seqB='-----LV-IA-GNPAYRS', score=4.0, start=0, end=18)\n",
      "Alignment(seqA='SPGEYVNIEFG-----S', seqB='----LV-IA-GNPAYRS', score=4.0, start=0, end=17)\n",
      "Alignment(seqA='SPGEYVNIEFG-----S', seqB='---L-V-IA-GNPAYRS', score=4.0, start=0, end=17)\n",
      "Alignment(seqA='SPGEYVNIEFG-----S', seqB='--L--V-IA-GNPAYRS', score=4.0, start=0, end=17)\n",
      "Alignment(seqA='SPGEYVNIEFG-----S', seqB='-L---V-IA-GNPAYRS', score=4.0, start=0, end=17)\n",
      "Alignment(seqA='SPGEYVNIEFG-----S', seqB='L----V-IA-GNPAYRS', score=4.0, start=0, end=17)\n"
     ]
    }
   ],
   "source": [
    "# Import libraries\n",
    "from Bio import pairwise2\n",
    "from Bio.Seq import Seq\n",
    "from Bio.pairwise2 import format_alignment\n",
    "from Bio import SeqIO\n",
    "\n",
    "mice = list(SeqIO.parse(\"rcsb_pdb_1AYB.fasta\", \"fasta\"))\n",
    "miceA = mice[0].seq\n",
    "miceB = mice[1].seq\n",
    "\n",
    "human = list(SeqIO.parse(\"rcsb_pdb_1IRS.fasta\", \"fasta\"))\n",
    "humA = human[0].seq\n",
    "humB = human[1].seq\n",
    "\n",
    "# Creating sample sequences\n",
    "seq_miceA = Seq(miceA)\n",
    "seq_miceB = Seq(miceB)\n",
    "\n",
    "seq_humA = Seq(humA)\n",
    "seq_humB = Seq(humB)\n",
    "\n",
    "# Finding similarities\n",
    "alignmentA = pairwise2.align.globalxx(seq_miceA, seq_humA)\n",
    "alignmentB = pairwise2.align.globalxx(seq_miceB, seq_humB)\n",
    "\n",
    "# # Showing results\n",
    "for match in alignmentA:\n",
    "\tprint(match)\n",
    "\n",
    "# for alignment in alignmentA:\n",
    "#     print(format_alignment(*alignment))\n",
    "\n",
    "for match in alignmentB:\n",
    "\tprint(match)\n",
    "\n",
    "# for alignment in alignmentB:\n",
    "#     print(format_alignment(*alignment))\n"
   ]
  },
  {
   "cell_type": "markdown",
   "id": "7353ea2b",
   "metadata": {},
   "source": [
    "## Heatmap "
   ]
  },
  {
   "cell_type": "code",
   "execution_count": 3,
   "id": "473e0b5a",
   "metadata": {},
   "outputs": [
    {
     "name": "stdout",
     "output_type": "stream",
     "text": [
      "[36.  7. 10.  4.]\n"
     ]
    }
   ],
   "source": [
    "import numpy as np\n",
    "total_scores_array = np.array([])\n",
    "\n",
    "for i in range(0, len(mice)):\n",
    "    scores_array = np.array([])\n",
    "    for j in range(0, len(human)):\n",
    "        if mice[i].seq != human[j].seq:\n",
    "            alignments = pairwise2.align.globalxx(mice[i].seq, human[j].seq)\n",
    "            scores_array = np.append(scores_array, alignments[0].score)\n",
    "    total_scores_array = np.append(total_scores_array, scores_array)\n",
    "    \n",
    "print(total_scores_array)"
   ]
  },
  {
   "cell_type": "code",
   "execution_count": 4,
   "id": "2802a502",
   "metadata": {},
   "outputs": [],
   "source": [
    "my_array = np.reshape(total_scores_array, (-1, 2))"
   ]
  },
  {
   "cell_type": "code",
   "execution_count": 5,
   "id": "ddfd4cb6",
   "metadata": {},
   "outputs": [
    {
     "data": {
      "text/html": [
       "<div>\n",
       "<style scoped>\n",
       "    .dataframe tbody tr th:only-of-type {\n",
       "        vertical-align: middle;\n",
       "    }\n",
       "\n",
       "    .dataframe tbody tr th {\n",
       "        vertical-align: top;\n",
       "    }\n",
       "\n",
       "    .dataframe thead th {\n",
       "        text-align: right;\n",
       "    }\n",
       "</style>\n",
       "<table border=\"1\" class=\"dataframe\">\n",
       "  <thead>\n",
       "    <tr style=\"text-align: right;\">\n",
       "      <th></th>\n",
       "      <th>Column_A</th>\n",
       "      <th>Column_B</th>\n",
       "    </tr>\n",
       "  </thead>\n",
       "  <tbody>\n",
       "    <tr>\n",
       "      <th>0</th>\n",
       "      <td>36.0</td>\n",
       "      <td>7.0</td>\n",
       "    </tr>\n",
       "    <tr>\n",
       "      <th>1</th>\n",
       "      <td>10.0</td>\n",
       "      <td>4.0</td>\n",
       "    </tr>\n",
       "  </tbody>\n",
       "</table>\n",
       "</div>"
      ],
      "text/plain": [
       "   Column_A  Column_B\n",
       "0      36.0       7.0\n",
       "1      10.0       4.0"
      ]
     },
     "execution_count": 5,
     "metadata": {},
     "output_type": "execute_result"
    }
   ],
   "source": [
    "import pandas as pd\n",
    "\n",
    "df = pd.DataFrame(my_array, columns = ['Column_A','Column_B'])\n",
    "df"
   ]
  },
  {
   "cell_type": "code",
   "execution_count": 6,
   "id": "4d9328ac",
   "metadata": {},
   "outputs": [
    {
     "data": {
      "image/png": "[encoded data removed]",
      "text/plain": [
       "<Figure size 432x288 with 2 Axes>"
      ]
     },
     "metadata": {
      "needs_background": "light"
     },
     "output_type": "display_data"
    }
   ],
   "source": [
    "import seaborn as sns\n",
    "import matplotlib.pylab as plt\n",
    "uniform_data = df\n",
    "ax = sns.heatmap(uniform_data, linewidth=0.5)\n",
    "plt.show()"
   ]
  },
  {
   "cell_type": "markdown",
   "id": "d25dd3d6",
   "metadata": {},
   "source": [
    "## Structural Bioinformatics"
   ]
  },
  {
   "cell_type": "code",
   "execution_count": 7,
   "id": "520b2f4d",
   "metadata": {},
   "outputs": [
    {
     "data": {
      "application/vnd.jupyter.widget-view+json": {
       "model_id": "765ba18fc59d4acfa93b58806f4b30e9",
       "version_major": 2,
       "version_minor": 0
      },
      "text/plain": []
     },
     "metadata": {},
     "output_type": "display_data"
    },
    {
     "data": {
      "application/vnd.jupyter.widget-view+json": {
       "model_id": "34f07d78488e4a958572fb2c55302e57",
       "version_major": 2,
       "version_minor": 0
      },
      "text/plain": [
       "NGLWidget()"
      ]
     },
     "metadata": {},
     "output_type": "display_data"
    }
   ],
   "source": [
    "import nglview as nv\n",
    "view = nv.show_structure_file('human.pdb')\n",
    "view.clear_representations()\n",
    "view.add_cartoon(color='blue')\n",
    "view"
   ]
  },
  {
   "cell_type": "code",
   "execution_count": 8,
   "id": "bf289a86",
   "metadata": {},
   "outputs": [
    {
     "data": {
      "text/plain": [
       "<nglview.component.ComponentViewer at 0x210038b6070>"
      ]
     },
     "execution_count": 8,
     "metadata": {},
     "output_type": "execute_result"
    }
   ],
   "source": [
    "view.clear_representations()\n",
    "view.add_cartoon(color='blue')\n",
    "view.add_component(nv.PdbIdStructure(\"1ayb\"), color='red')"
   ]
  },
  {
   "cell_type": "markdown",
   "id": "fe30af47",
   "metadata": {},
   "source": [
    "![Full Image](images/total.png)"
   ]
  },
  {
   "cell_type": "markdown",
   "id": "3354471d",
   "metadata": {},
   "source": [
    "Human IRS in green and mice IRS in cyan."
   ]
  },
  {
   "cell_type": "markdown",
   "id": "6835cbc3",
   "metadata": {},
   "source": [
    "## 3D protein measurements"
   ]
  },
  {
   "cell_type": "markdown",
   "id": "52159c86",
   "metadata": {},
   "source": [
    "![Distance Measurement](images/distance1.png)"
   ]
  },
  {
   "cell_type": "markdown",
   "id": "93a84074",
   "metadata": {},
   "source": [
    "![Arrow Distance Measurement](images/arrowDistance.png)"
   ]
  },
  {
   "cell_type": "markdown",
   "id": "fe7c0817",
   "metadata": {},
   "source": [
    "![Angle Measurement](images/angle.png)"
   ]
  },
  {
   "cell_type": "markdown",
   "id": "5ab9071d",
   "metadata": {},
   "source": [
    "Images aligned by Chain A. Distance between shared features on both proteins was measured. Human IRS in green, mice IRS in cyan."
   ]
  },
  {
   "cell_type": "code",
   "execution_count": null,
   "id": "39cb0eb0",
   "metadata": {},
   "outputs": [],
   "source": []
  }
 ],
 "metadata": {
  "kernelspec": {
   "display_name": "Python 3 (ipykernel)",
   "language": "python",
   "name": "python3"
  },
  "language_info": {
   "codemirror_mode": {
    "name": "ipython",
    "version": 3
   },
   "file_extension": ".py",
   "mimetype": "text/x-python",
   "name": "python",
   "nbconvert_exporter": "python",
   "pygments_lexer": "ipython3",
   "version": "3.8.5"
  }
 },
 "nbformat": 4,
 "nbformat_minor": 5
}
